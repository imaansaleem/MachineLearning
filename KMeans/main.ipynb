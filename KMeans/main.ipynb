{
 "cells": [
  {
   "cell_type": "markdown",
   "metadata": {},
   "source": [
    "# K Mean Clustering "
   ]
  },
  {
   "cell_type": "markdown",
   "metadata": {},
   "source": [
    "### Import the libraries"
   ]
  },
  {
   "cell_type": "code",
   "execution_count": null,
   "metadata": {},
   "outputs": [],
   "source": [
    "import numpy as np\n",
    "import cv2 as cv\n",
    "from matplotlib import pyplot as plt\n",
    "from PIL import Image\n",
    "from IPython.display import display, HTML"
   ]
  },
  {
   "cell_type": "markdown",
   "metadata": {},
   "source": [
    "### Sapmle Input Data vizualization"
   ]
  },
  {
   "cell_type": "code",
   "execution_count": null,
   "metadata": {},
   "outputs": [],
   "source": [
    "image_filenames = ['1.jpg', '2.jpg', '3.jpg']\n",
    "\n",
    "# Open and display each image\n",
    "for filename in image_filenames:\n",
    "    # Open the image using PIL\n",
    "    image = Image.open(filename)\n",
    "\n",
    "    # Define the desired width for the resized image\n",
    "    desired_width = 250\n",
    "\n",
    "    # Calculate the new height while maintaining the aspect ratio\n",
    "    aspect_ratio = float(image.size[1]) / float(image.size[0])\n",
    "    desired_height = int(aspect_ratio * desired_width)\n",
    "\n",
    "    # Resize the image\n",
    "    resized_image = image.resize((desired_width, desired_height))\n",
    "\n",
    "    # Display the resized image\n",
    "    display(resized_image)\n"
   ]
  },
  {
   "cell_type": "markdown",
   "metadata": {},
   "source": [
    "### Read the images"
   ]
  },
  {
   "cell_type": "code",
   "execution_count": null,
   "metadata": {},
   "outputs": [],
   "source": [
    "#________________This code is for getting information of images\n",
    "\n",
    "\n",
    "\n",
    "input_img_1_info = cv.imread('1.jpg')\n",
    "input_img_2_info = cv.imread('2.jpg')\n",
    "input_img_3_info = cv.imread('3.jpg')\n",
    "\n",
    "#Converting BGR to RGB(OpenCV uses BGR format by default)\n",
    "input_img_1 = cv.cvtColor(input_img_1_info, cv.COLOR_BGR2RGB)\n",
    "input_img_2 = cv.cvtColor(input_img_2_info, cv.COLOR_BGR2RGB)\n",
    "input_img_3 = cv.cvtColor(input_img_3_info, cv.COLOR_BGR2RGB)\n",
    "\n",
    "scaling_factor = 0.3  # Adjust this value to change the size of the shrunk images\n",
    "\n",
    "\n",
    "#Information of images\n",
    "print(\"shapes of images:\")\n",
    "print('Image 1: ', input_img_1_info.shape)\n",
    "print('Image 2: ', input_img_2_info.shape)\n",
    "print('Image 3: ', input_img_3_info.shape)\n",
    "\n"
   ]
  },
  {
   "cell_type": "markdown",
   "metadata": {},
   "source": [
    "Expexted Output: <br>\n",
    "shapes of images: <br>\n",
    "Image 1:  (744, 750, 3) <br>\n",
    "Image 2:  (533, 800, 3)<br>\n",
    "Image 3:  (393, 700, 3)"
   ]
  },
  {
   "cell_type": "markdown",
   "metadata": {},
   "source": [
    "### Understanding the data"
   ]
  },
  {
   "cell_type": "code",
   "execution_count": null,
   "metadata": {},
   "outputs": [],
   "source": [
    "#printing the first row of the image\n",
    "print(\"Image 1 : ROW1:\")\n",
    "print(input_img_1_info[0].shape)\n",
    "print(input_img_1_info[0])\n",
    "type(input_img_1_info)"
   ]
  },
  {
   "cell_type": "markdown",
   "metadata": {},
   "source": [
    "### Preprocessing the data"
   ]
  },
  {
   "cell_type": "code",
   "execution_count": null,
   "metadata": {},
   "outputs": [],
   "source": [
    "#_________________This code will need your attention to run properly____________\n",
    "\n",
    "#convert the image 1 to 2D array\n",
    "input_img_1_2d = input_img_1.reshape((-1, 3))\n",
    "\n",
    "print(\"Image 1 : 2D array:\", end=\" \")\n",
    "print(input_img_1_2d.shape)\n",
    "\n",
    "#convert the image 2 to 2D array\n",
    "input_img_2_2d = input_img_2.reshape((-1, 3))\n",
    "print(\"Image 2 : 2D array:\", end=\" \")\n",
    "print(input_img_2_2d.shape)\n",
    "\n",
    "#convert the image 3 to 2D array\n",
    "input_img_3_2d = input_img_3.reshape((-1, 3))\n",
    "print(\"Image 3 : 2D array:\", end=\" \")\n",
    "print(input_img_3_2d.shape)\n",
    "\n",
    "\n"
   ]
  },
  {
   "cell_type": "markdown",
   "metadata": {},
   "source": [
    "##### Expected Output\n",
    "\n",
    "Image 1 : 2D array:\n",
    "(558000, 3) <br>\n",
    "Image 2 : 2D array:\n",
    "(426400, 3) <br>\n",
    "Image 3 : 2D array:\n",
    "(275100, 3) <br>"
   ]
  },
  {
   "cell_type": "markdown",
   "metadata": {},
   "source": [
    "### Implimentation of K-Mean Clustering"
   ]
  },
  {
   "cell_type": "markdown",
   "metadata": {},
   "source": [
    "#### Helper Funtions"
   ]
  },
  {
   "cell_type": "code",
   "execution_count": null,
   "metadata": {},
   "outputs": [],
   "source": [
    "\n",
    "def random_centroids_initializer(data, k):\n",
    "    \n",
    "    # Randomly select k points from the data as initial centroids replace = false ensures that choice is unique\n",
    "    indices = np.random.choice(data.shape[0], size=k, replace=False)\n",
    "\n",
    "    #assigning data from randomly selected indexes to variable centroids\n",
    "    centroids = data[indices]\n",
    "\n",
    "    #returning points\n",
    "    return centroids\n"
   ]
  },
  {
   "cell_type": "code",
   "execution_count": null,
   "metadata": {},
   "outputs": [],
   "source": [
    "\n",
    "def assign_data_points_to_nearest_centroid(data, centroids):\n",
    "    \n",
    "    #computing manhattan distance\n",
    "    distances = np.sum(np.abs(data[:, np.newaxis] - centroids), axis=2)\n",
    "    \n",
    "    # returning index of minimum value\n",
    "    assigned_centroids = np.argmin(distances, axis=1)\n",
    "    \n",
    "    #returning array\n",
    "    return assigned_centroids"
   ]
  },
  {
   "cell_type": "code",
   "execution_count": null,
   "metadata": {},
   "outputs": [],
   "source": [
    "\n",
    "def update_centroids_by_mean(data, assigned_centroids, k):\n",
    "    \n",
    "    #creating empty centrod array\n",
    "    centroids = np.empty((k, data.shape[1]))\n",
    "    \n",
    "    #go for every centroid \n",
    "    for i in range(k):\n",
    "        \n",
    "        # if centroid is of type i return data at that index\n",
    "        assigned_points = data[assigned_centroids == i]\n",
    "        \n",
    "        #if ith centroid is not used by any data point\n",
    "        if len(assigned_points) > 0:\n",
    "            centroids[i] = np.mean(assigned_points, axis=0)\n",
    "\n",
    "    return centroids\n"
   ]
  },
  {
   "cell_type": "markdown",
   "metadata": {},
   "source": [
    "#### Mian Function"
   ]
  },
  {
   "cell_type": "code",
   "execution_count": null,
   "metadata": {},
   "outputs": [],
   "source": [
    "\n",
    "\n",
    "def kmeans_clustering(data, k, max_iterations=100):\n",
    "        \n",
    "    # Randomly initialize centroids\n",
    "    #call the helper function here of random_centroids_initializer\n",
    "    centroids = random_centroids_initializer(data, k)\n",
    "    \n",
    "    for _ in range(max_iterations):\n",
    "\n",
    "        # Assign each data point to the nearest centroid\n",
    "        #call the helper function here of assign_data_points_to_nearest_centroid\n",
    "        labels = assign_data_points_to_nearest_centroid(data, centroids)\n",
    "\n",
    "        # Update centroids by taking the mean of the assigned data points\n",
    "        #call the helper function here of update_centroids_by_mean(absolute distance)\n",
    "        new_centroids = update_centroids_by_mean(data, labels, k)\n",
    "\n",
    "        # Check convergence\n",
    "        if np.sum(np.abs(new_centroids - centroids)) == 0:\n",
    "            break\n",
    "        \n",
    "        centroids = new_centroids\n",
    "\n",
    "    #Upadte centroids to the latest centroids\n",
    "\n",
    "    return labels, centroids\n"
   ]
  },
  {
   "cell_type": "markdown",
   "metadata": {},
   "source": [
    "#### Verification of the output"
   ]
  },
  {
   "cell_type": "code",
   "execution_count": null,
   "metadata": {},
   "outputs": [],
   "source": [
    "# chanage the value of  to match your output with given output\n",
    "# Create an empty ndarray with dtype=object\n",
    "images = np.empty(3, dtype=object)\n",
    "\n",
    "# Assign the input arrays to the corresponding positions\n",
    "images[0] = input_img_1_2d\n",
    "images[1] = input_img_2_2d\n",
    "images[2] = input_img_3_2d\n",
    "k = 2\n",
    "for i in range(3):\n",
    "    print(f'For input_image_{i+1}:')\n",
    "    labels, centroids = kmeans_clustering(images[i], k)\n",
    "    print('k', k)\n",
    "    print('unique labels',np.unique(labels))\n",
    "    print('Labels shape: ', labels.shape)\n",
    "    print('Centroids shape: ', centroids.shape)\n",
    "    print('centroids',centroids)\n",
    "    print('\\n\\n')"
   ]
  },
  {
   "cell_type": "markdown",
   "metadata": {},
   "source": [
    "#### Expected Output\n",
    "Note : The output will vary if you use diffrent distance metric or reduced size of the image.\n",
    "\n",
    "For input_image_1: <br>\n",
    "<hr>\n",
    "\n",
    "- k 2\n",
    "- unique labels [0 1]\n",
    "- Labels shape:  (558000,)\n",
    "- Centroids shape:  (2, 3)\n",
    "> [[ 98.15321625  72.44336854  63.15206393] <br>\n",
    "      [182.32910336 168.23132632 150.00980018]]\n",
    "<hr>\n",
    "\n",
    "For input_image_2: <br>\n",
    "\n",
    "- k 2\n",
    "- unique labels [0 1]\n",
    "- Labels shape:  (426400,)\n",
    "- Centroids shape:  (2, 3)\n",
    "> centroids [[226.34647018 223.46249381 220.90380275] <br>\n",
    " [193.99718075 161.61216588 146.87529588]]\n",
    "\n",
    " <hr>\n",
    " For input_image_1: <br>\n",
    "\n",
    "- k 2\n",
    "- unique labels [0 1]\n",
    "- Labels shape:  (275100,)\n",
    "- Centroids shape:  (2, 3)\n",
    "> centroids [[118.32229891 158.51120919 238.83084683] <br>\n",
    "      [ 79.00552162 107.03481755  28.29886674]]"
   ]
  },
  {
   "cell_type": "markdown",
   "metadata": {},
   "source": [
    "## BATCH RUN"
   ]
  },
  {
   "cell_type": "markdown",
   "metadata": {},
   "source": [
    "### K-Mean Clustering on the all images"
   ]
  },
  {
   "cell_type": "markdown",
   "metadata": {},
   "source": [
    "NOTE: IF YOUR CODE IS TAKING TOO MUCH TIME TO RUN, TRY RESIZE THE IMAGE TO SMALLER SIZE "
   ]
  },
  {
   "cell_type": "code",
   "execution_count": null,
   "metadata": {},
   "outputs": [],
   "source": [
    "k_values = [2, 5, 10,20]\n",
    "images = [input_img_1_2d, input_img_2_2d, input_img_3_2d]\n",
    "org_images = [input_img_1, input_img_2, input_img_3]\n",
    "\n",
    "for i, (image, org_image) in enumerate(zip(images, org_images)):\n",
    "    for k in k_values:\n",
    "        labels, centroids = kmeans_clustering(image, k)\n",
    "        # Replace pixel values with centroid values\n",
    "        new_image_data = centroids[labels].reshape(org_image.shape)\n",
    "        # Convert the data back to image format\n",
    "        new_image = Image.fromarray(new_image_data.astype(np.uint8))\n",
    "        # Display the new image\n",
    "        display(HTML(f'<h2>Clustered Image of input {i+1} (k={k})</h2>'))\n",
    "        display(new_image)\n"
   ]
  },
  {
   "cell_type": "markdown",
   "metadata": {},
   "source": [
    "### Expected Output\n",
    "\n",
    "\n",
    "![Example Image](1.O.jpg)\n",
    "![Example Image](2.O.jpg)\n",
    "![Example Image](3.O.jpg)\n"
   ]
  }
 ],
 "metadata": {
  "kernelspec": {
   "display_name": "Python 3 (ipykernel)",
   "language": "python",
   "name": "python3"
  },
  "language_info": {
   "codemirror_mode": {
    "name": "ipython",
    "version": 3
   },
   "file_extension": ".py",
   "mimetype": "text/x-python",
   "name": "python",
   "nbconvert_exporter": "python",
   "pygments_lexer": "ipython3",
   "version": "3.10.9"
  }
 },
 "nbformat": 4,
 "nbformat_minor": 2
}
